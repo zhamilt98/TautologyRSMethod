{
  "nbformat": 4,
  "nbformat_minor": 0,
  "metadata": {
    "colab": {
      "provenance": []
    },
    "kernelspec": {
      "name": "python3",
      "display_name": "Python 3"
    },
    "language_info": {
      "name": "python"
    }
  },
  "cells": [
    {
      "cell_type": "code",
      "metadata": {
        "id": "5dIoyojDVGfo"
      },
      "source": [
        "import re\n",
        "import itertools as it\n",
        "\n",
        "class main():\n",
        "  def __init__(self):\n",
        "    self.finalList = []\n",
        "\n",
        "  def run(self,formula):\n",
        "   self.RS_method(formula)\n",
        "   print(self.finalList)\n",
        "   return self.isTautology(self.finalList)\n",
        "\n",
        "  def RS_method(self, formula):\n",
        "    formula = formula.replace(' ','')\n",
        "    formula = formula.replace('>','')\n",
        "    print(formula)\n",
        "    if self.isDecom(formula):\n",
        "      print('x')\n",
        "      partList = list(self.getStatment(formula))\n",
        "      print(partList)\n",
        "      partList = self.notCheck_fix(partList)\n",
        "      print(partList)\n",
        "      self.opp(partList)\n",
        "\n",
        "    else:\n",
        "\n",
        "      formula = formula.replace('~~','')\n",
        "      print(formula)\n",
        "      if '-' in formula:\n",
        "        formula='~'+formula[0]+'v'+formula[2]\n",
        "      self.finalList.append(re.split('v|\\^',formula))\n",
        "\n",
        "\n",
        "\n",
        "\n",
        "\n",
        "  def isDecom(self, statment):\n",
        "\n",
        "     return  (('(' in statment) or (')' in statment))\n",
        "\n",
        "  def isTautology(self, finList):\n",
        "    taut = True\n",
        "    flatList=list(it.chain.from_iterable(finList))\n",
        "    for x in flatList:\n",
        "      if '~' in x:\n",
        "        if x.replace('~','') in flatList:\n",
        "          continue\n",
        "        else:\n",
        "          taut = False\n",
        "          break\n",
        "      else:\n",
        "        if ('~' + str(x)) in flatList:\n",
        "          continue\n",
        "        else:\n",
        "          taut = False\n",
        "          break\n",
        "\n",
        "\n",
        "    return taut\n",
        "  def opp(self, partList):\n",
        "    if partList[1] == '-':\n",
        "      partList[0] = '~' + partList[0]\n",
        "      partList[1] = 'v'\n",
        "      partList = self.notCheck_fix(partList)\n",
        "      self.opp(partList)\n",
        "    elif partList[1] == '^':\n",
        "      self.RS_method(re.sub('^[\\[({}]','',re.sub('[)\\]}]{1}$','',partList[0])))\n",
        "      self.RS_method(re.sub('^[\\[({}]','',re.sub('[)\\]}]{1}$','',partList[2])))\n",
        "    elif partList[1] == 'v':\n",
        "      self.RS_method(re.sub('^[\\[({}]','',re.sub('[)\\]}]{1}$','',partList[0])))\n",
        "      self.RS_method(re.sub('^[\\[({}]','',re.sub('[)\\]}]{1}$','',partList[2])))\n",
        "\n",
        "  def notCheck_fix(self, partList):\n",
        "    if partList[0][0] == '~' and partList[0][1] == '(':\n",
        "      partList[0] = self.demorgan(partList[0])\n",
        "    if partList[2][0] == '~' and partList[2][1] == '(':\n",
        "      partList[2] = self.demorgan(partList[2])\n",
        "    return partList\n",
        "\n",
        "  def demorgan(self, string):\n",
        "    demor = list(self.getStatment(string[2:len(string)-1]))\n",
        "\n",
        "    if demor[1] == '-':\n",
        "      demor[0] = \"(\"+ demor[0]\n",
        "      demor[1] = '^'\n",
        "      demor[2] ='~'+ demor[2] +')'\n",
        "\n",
        "    elif demor[1] == '^':\n",
        "      demor[0] = '(~'+ demor[0]\n",
        "      demor[1] = 'v'\n",
        "      demor[2] ='~'+ demor[2] +')'\n",
        "    elif demor[1] == 'v':\n",
        "      demor[0] = '(~'+ demor[0]\n",
        "      demor[1] = '^'\n",
        "      demor[2] ='~'+ demor[2] +')'\n",
        "\n",
        "    return ''.join(demor)\n",
        "\n",
        "  def getStatment(self, formula):\n",
        "\n",
        "    ignore = 0\n",
        "    P = ''\n",
        "    Q = ''\n",
        "    O = ''\n",
        "    for y in range(0,len(formula)):\n",
        "\n",
        "      if formula[y] == '(' or formula[y] == '{' or formula[y] == '[':\n",
        "        ignore += 1\n",
        "      elif formula[y] == ')' or formula[y] == ']' or formula[y] == '}':\n",
        "          ignore -= 1\n",
        "      if ignore == 0 and( formula[y] == '-' or formula[y] == 'v' or formula[y] == '^'):\n",
        "        O = formula[y]\n",
        "        P = formula[:y]\n",
        "        Q = formula[y+1:]\n",
        "        return(P,O,Q)\n",
        "\n",
        "\n",
        "\n",
        "\n",
        "\n"
      ],
      "execution_count": null,
      "outputs": []
    },
    {
      "cell_type": "code",
      "metadata": {
        "colab": {
          "base_uri": "https://localhost:8080/"
        },
        "id": "znbcawak5FQA",
        "outputId": "3d7f8fca-2e6d-4d8d-c927-419bc9c86b4b"
      },
      "source": [
        "c='{[~(cvd)-(a^~c)]'\n",
        "print(re.sub('^[\\[({}]','',re.sub('[)\\]}]{1}$','',c)))\n"
      ],
      "execution_count": null,
      "outputs": [
        {
          "output_type": "stream",
          "name": "stdout",
          "text": [
            "[~(cvd)-(a^~c)\n"
          ]
        }
      ]
    },
    {
      "cell_type": "code",
      "metadata": {
        "colab": {
          "base_uri": "https://localhost:8080/"
        },
        "id": "6rakdkYgg08g",
        "outputId": "1de5e500-ed2d-4286-f5a4-a37d1505f3e5"
      },
      "source": [
        "z = '((a->b)^(c->b))->~(a^~c)'\n",
        "a='p->(qvp)'\n",
        "M = main()\n",
        "M.run(a)\n",
        "\n",
        "\n"
      ],
      "execution_count": null,
      "outputs": [
        {
          "output_type": "stream",
          "name": "stdout",
          "text": [
            "p-(qvp)\n",
            "x\n",
            "['p', '-', '(qvp)']\n",
            "['p', '-', '(qvp)']\n",
            "~p\n",
            "~p\n",
            "qvp\n",
            "qvp\n",
            "[['~p'], ['q', 'p']]\n"
          ]
        },
        {
          "output_type": "execute_result",
          "data": {
            "text/plain": [
              "False"
            ]
          },
          "metadata": {},
          "execution_count": 118
        }
      ]
    },
    {
      "cell_type": "code",
      "metadata": {
        "colab": {
          "base_uri": "https://localhost:8080/"
        },
        "id": "LI6tBjw0pCXP",
        "outputId": "41d0d102-6ce6-48c0-84a3-877d54994424"
      },
      "source": [
        "x = 'aba'\n",
        "x.index('a')\n",
        "p->q^z"
      ],
      "execution_count": null,
      "outputs": [
        {
          "output_type": "execute_result",
          "data": {
            "text/plain": [
              "0"
            ]
          },
          "metadata": {},
          "execution_count": 25
        }
      ]
    },
    {
      "cell_type": "code",
      "metadata": {
        "id": "l3isAXbXrG-C",
        "colab": {
          "base_uri": "https://localhost:8080/",
          "height": 217
        },
        "outputId": "b5ef19c6-9855-4fa7-84f4-7d2854c667a8"
      },
      "source": [
        "import re\n",
        "import sys\n",
        "\n",
        "class RSMethod():\n",
        "\n",
        "  def __init__(self):\n",
        "    self.oppsList = []\n",
        "    self.leafList = []\n",
        "\n",
        "  def run(self):\n",
        "    formula= input(\"Enter Logical Formula: \")\n",
        "    formula = formula.replace(' ','')\n",
        "    formula = formula.replace('>','')\n",
        "    if formula[0]=='-' or formula[0]=='v' or formula[0]=='^':\n",
        "      formula = self.convertPol(formula)\n",
        "    self.oppsList.append([formula])\n",
        "    if formula[0]=='~':\n",
        "      self.notCheck_fix()\n",
        "    self.cleanPar()\n",
        "\n",
        "  def convertPol(self,formula):\n",
        "    formula=list(formula)\n",
        "    s=[]\n",
        "    for c in range(len(formula)-1,-1,-1):\n",
        "\n",
        "      if formula[c] not in ['-','v','^']:\n",
        "        s.insert(0,formula[c])\n",
        "      else:\n",
        "        if s[0]=='~':\n",
        "          op1=s[0]+s[1]\n",
        "          s.pop(0)\n",
        "          s.pop(0)\n",
        "          if s[0]=='~':\n",
        "            op2=s[0]+s[1]\n",
        "            s.pop(0)\n",
        "            s.pop(0)\n",
        "          else:\n",
        "            op2=s[0]\n",
        "            s.pop(0)\n",
        "        else:\n",
        "          op1=s[0]\n",
        "          s.pop(0)\n",
        "          if s[0]=='~':\n",
        "            op2=s[0]+s[1]\n",
        "            s.pop(0)\n",
        "            s.pop(0)\n",
        "          else:\n",
        "            op2=s[0]\n",
        "            s.pop(0)\n",
        "        s.insert(0,'('+op1+formula[c]+op2+')')\n",
        "    return(s[0])\n",
        "\n",
        "  def getStatement(self):\n",
        "\n",
        "    P = ''\n",
        "    Q = ''\n",
        "    O = ''\n",
        "    for branch,b in zip(self.oppsList,range(0,len(self.oppsList))):\n",
        "      for formula,x in zip(branch,range(0,len(branch))):\n",
        "        ignore = 0\n",
        "        formula = formula.replace('~~','')\n",
        "        for y in range(0,len(formula)):\n",
        "\n",
        "          if formula[y] == '(' or formula[y] == '{' or formula[y] == '[':\n",
        "            ignore += 1\n",
        "          elif formula[y] == ')' or formula[y] == ']' or formula[y] == '}':\n",
        "            ignore -= 1\n",
        "          if ignore == 0 and( formula[y] == '-' or formula[y] == 'v' or formula[y] == '^') and len(formula)!=1:\n",
        "            O = formula[y]\n",
        "            P = formula[:y]\n",
        "            Q = formula[y+1:]\n",
        "            del self.oppsList[b][x]\n",
        "            self.oppsList[b].append(P)\n",
        "            self.oppsList[b].append(O)\n",
        "            self.oppsList[b].append(Q)\n",
        "            self.getStatement()\n",
        "    self.notCheck_fix()\n",
        "\n",
        "  def deGetStatment(self, formula):\n",
        "\n",
        "    ignore = 0\n",
        "    P = ''\n",
        "    Q = ''\n",
        "    O = ''\n",
        "    for y in range(0,len(formula)):\n",
        "\n",
        "      if formula[y] == '(' or formula[y] == '{' or formula[y] == '[':\n",
        "        ignore += 1\n",
        "      elif formula[y] == ')' or formula[y] == ']' or formula[y] == '}':\n",
        "          ignore -= 1\n",
        "      if ignore == 0 and( formula[y] == '-' or formula[y] == 'v' or formula[y] == '^'):\n",
        "        O = formula[y]\n",
        "        P = formula[:y]\n",
        "        Q = formula[y+1:]\n",
        "        return(P,O,Q)\n",
        "\n",
        "  def notCheck_fix(self):\n",
        "    for branch,b in zip(self.oppsList,range(0,len(self.oppsList))):\n",
        "      for formula,x in zip(branch,range(0,len(branch))):\n",
        "        if formula[0] == '~':\n",
        "          if formula[1] == '(' or formula[1] == '[' or formula[1] == '{':\n",
        "            self.oppsList[b][x] = self.demorgan(formula)\n",
        "    self.opp()\n",
        "\n",
        "\n",
        "  def demorgan(self, string):\n",
        "      demor = list(self.deGetStatment(string[2:len(string)-1]))\n",
        "\n",
        "      if demor[1] == '-':\n",
        "        demor[0] = \"(\"+ demor[0]\n",
        "        demor[1] = '^'\n",
        "        demor[2] ='~'+ demor[2] +')'\n",
        "\n",
        "      elif demor[1] == '^':\n",
        "        demor[0] = '(~'+ demor[0]\n",
        "        demor[1] = 'v'\n",
        "        demor[2] ='~'+ demor[2] +')'\n",
        "      elif demor[1] == 'v':\n",
        "        demor[0] = '(~'+ demor[0]\n",
        "        demor[1] = '^'\n",
        "        demor[2] ='~'+ demor[2] +')'\n",
        "      return ''.join(demor)\n",
        "\n",
        "  def opp(self):\n",
        "    for branch,b in zip(self.oppsList,range(0,len(self.oppsList))):\n",
        "      for formula,x in zip(branch,range(0,len(branch))):\n",
        "        if formula == '-':\n",
        "          self.oppsList[b][x]='v'\n",
        "          self.oppsList[b][x-1]='~'+self.oppsList[b][x-1]\n",
        "          self.notCheck_fix()\n",
        "        elif formula == 'v':\n",
        "          del self.oppsList[b][x]\n",
        "          self.notCheck_fix()\n",
        "        elif formula == '^':\n",
        "\n",
        "          b1=self.oppsList[b][:x]\n",
        "          b1.extend(self.oppsList[b][x+2:])\n",
        "          b2=self.oppsList[b][x+1:]\n",
        "          b2.extend(self.oppsList[b][:x-1])\n",
        "\n",
        "          self.oppsList.append(b1)\n",
        "          self.oppsList.append(b2)\n",
        "\n",
        "          del self.oppsList[b]\n",
        "\n",
        "          self.cleanPar()\n",
        "\n",
        "    self.cleanPar()\n",
        "\n",
        "\n",
        "  def cleanPar(self):\n",
        "    oppCheck=0\n",
        "    for branch,b in zip(self.oppsList,range(0,len(self.oppsList))):\n",
        "      flag = True\n",
        "      for formula,x in zip(branch,range(0,len(branch))):\n",
        "        if formula == 'v' or formula == '-' or formula == '^' or len(formula) > 2:\n",
        "          flag = False\n",
        "        ignore = 0\n",
        "        for y in range(0,len(formula)):\n",
        "          if formula[y] == '(' or formula[y] == '{' or formula[y] == '[':\n",
        "            ignore += 1\n",
        "          elif formula[y] == ')' or formula[y] == ']' or formula[y] == '}':\n",
        "            ignore -= 1\n",
        "          if ignore == 0 and ( formula[y] == '-' or formula[y] == 'v' or formula[y] == '^'):\n",
        "            break\n",
        "          if y == len(formula)-1:\n",
        "            formula=re.sub('^[\\[({}]','',re.sub('[)\\]}]{1}$','',formula))\n",
        "            self.oppsList[b][x]=formula\n",
        "      if flag:\n",
        "        self.isFundamental(branch)\n",
        "        self.leafList.append(self.oppsList.pop(b))\n",
        "        if len(self.oppsList) == 0:\n",
        "          print(\"Is Tautology: Yes\")\n",
        "          for leaf in self.leafList:\n",
        "            print(leaf , \"Fundamental\")\n",
        "          sys.exit(0)\n",
        "      self.getStatement()\n",
        "\n",
        "  def isFundamental(self,leaf):\n",
        "    for x in leaf:\n",
        "      if '~' in x:\n",
        "        if x.replace('~','') in leaf:\n",
        "          return 0\n",
        "        else:\n",
        "          continue\n",
        "      else:\n",
        "        if ('~' + str(x)) in leaf:\n",
        "          return 0\n",
        "        else:\n",
        "          continue\n",
        "    print(\"Is Tautology: No\")\n",
        "    for l in self.leafList:\n",
        "        print(l , \"Fundamental\")\n",
        "    print(\"Non Fundamental Leaf: \",leaf)\n",
        "    sys.exit(0)\n",
        "\n",
        "test=RSMethod()\n",
        "test.run()"
      ],
      "execution_count": null,
      "outputs": [
        {
          "output_type": "stream",
          "name": "stdout",
          "text": [
            "Enter Logical Formula:  ~(a -> c) -> [~(c v d)-> (a ^ c)]\n",
            "Is Tautology: No\n",
            "['~a', 'c', 'c', 'd', 'a'] Fundamental\n",
            "Non Fundamental Leaf:  ['c', '~a', 'c', 'c', 'd']\n"
          ]
        },
        {
          "output_type": "error",
          "ename": "SystemExit",
          "evalue": "ignored",
          "traceback": [
            "An exception has occurred, use %tb to see the full traceback.\n",
            "\u001b[0;31mSystemExit\u001b[0m\u001b[0;31m:\u001b[0m 0\n"
          ]
        },
        {
          "output_type": "stream",
          "name": "stderr",
          "text": [
            "/usr/local/lib/python3.7/dist-packages/IPython/core/interactiveshell.py:2890: UserWarning: To exit: use 'exit', 'quit', or Ctrl-D.\n",
            "  warn(\"To exit: use 'exit', 'quit', or Ctrl-D.\", stacklevel=1)\n"
          ]
        }
      ]
    },
    {
      "cell_type": "code",
      "metadata": {
        "colab": {
          "base_uri": "https://localhost:8080/"
        },
        "id": "cqi5Tqtw6rA5",
        "outputId": "9cf4d1f0-c312-4a5b-e1b4-a8e71b6c2293"
      },
      "source": [
        "import numpy as np\n",
        "l=np.array(['a','b','c'])\n",
        "l[l=='b']='d'\n",
        "print(l)"
      ],
      "execution_count": null,
      "outputs": [
        {
          "output_type": "stream",
          "name": "stdout",
          "text": [
            "['a' 'd' 'c']\n"
          ]
        }
      ]
    },
    {
      "cell_type": "code",
      "metadata": {
        "colab": {
          "base_uri": "https://localhost:8080/",
          "height": 217
        },
        "id": "ufx6PwQk8btH",
        "outputId": "22dbb8c7-27a5-4fc1-b830-86ed9a90d845"
      },
      "source": [
        "f='(((((((~(p^~p))))))))'\n",
        "test=RSMethod()\n",
        "test.run()"
      ],
      "execution_count": null,
      "outputs": [
        {
          "output_type": "stream",
          "name": "stdout",
          "text": [
            "Enter Logical Formula: (((((((~(p^~p))))))))\n",
            "['~p', 'p']\n",
            "Is Tautology: Yes\n",
            "['~p', 'p'] Fundamental\n"
          ]
        },
        {
          "output_type": "error",
          "ename": "SystemExit",
          "evalue": "ignored",
          "traceback": [
            "An exception has occurred, use %tb to see the full traceback.\n",
            "\u001b[0;31mSystemExit\u001b[0m\u001b[0;31m:\u001b[0m 0\n"
          ]
        },
        {
          "output_type": "stream",
          "name": "stderr",
          "text": [
            "/usr/local/lib/python3.7/dist-packages/IPython/core/interactiveshell.py:2890: UserWarning: To exit: use 'exit', 'quit', or Ctrl-D.\n",
            "  warn(\"To exit: use 'exit', 'quit', or Ctrl-D.\", stacklevel=1)\n"
          ]
        }
      ]
    },
    {
      "cell_type": "code",
      "metadata": {
        "id": "S8ckenCcRUGk"
      },
      "source": [
        " import re\n",
        " def convertPol(formula):\n",
        "    print(formula)\n",
        "    ignore=0\n",
        "    s,e=0\n",
        "    for c in range(0,len(formula)):\n",
        "      if formula[c]=='(':\n",
        "        if s==0:\n",
        "          s=c\n",
        "        ignore+=1\n",
        "      if formula[c]!='-' and formula[c]!='v' and formula[c]!='~' and formula[c]!='^':\n",
        "        if formula[c]==')' and c !=len(formula):\n",
        "          if e<c:\n",
        "            e=c\n",
        "          ignore-=1\n",
        "          continue\n",
        "        else:\n",
        "          if e<c:\n",
        "            e=c\n",
        "          ignore-=1\n",
        "        if ignore<=0:\n",
        "          if formula[c-1]!='~':\n",
        "            print('not')\n",
        "            o=formula[c-1]\n",
        "            p=formula[c]\n",
        "\n",
        "            formula=formula[:c-1]+p+o+formula[c+1:]\n",
        "            print(formula)\n",
        "            if formula[c+1]!='~':\n",
        "              formula=formula[:c-1]+'('+formula[c-1:c+2]+')'+formula[c+2:]\n",
        "              print(formula)\n",
        "              convertPol(formula)\n",
        "            else:\n",
        "              formula=formula[:c-1]+'('+formula[c-1:c+3]+')'+formula[c+3:]\n",
        "              convertPol(formula)\n",
        "\n",
        "          elif formula[c-1]=='~':\n",
        "\n",
        "            o=formula[c-2]\n",
        "            p=formula[c-1:c+1]\n",
        "            print(o,p)\n",
        "            formula=formula[:c-2]+p+o+formula[c+1:]\n",
        "            print(formula)\n",
        "            if formula[c+1]!='~':\n",
        "              formula=formula[:c-2]+'('+formula[c-2:c+2]+')'+formula[c+2:]\n",
        "              convertPol(formula)\n",
        "            else:\n",
        "              formula=formula[:c-2]+'('+formula[c-2:c+3]+')'+formula[c+3:]\n",
        "              convertPol(formula)\n",
        "\n",
        "    return formula"
      ],
      "execution_count": null,
      "outputs": []
    },
    {
      "cell_type": "code",
      "metadata": {
        "colab": {
          "base_uri": "https://localhost:8080/",
          "height": 296
        },
        "id": "6rmHjM6-QDZT",
        "outputId": "8c863adc-8a23-4a6e-aa99-a24042073336"
      },
      "source": [
        "convertPol('--ab-~a~b')"
      ],
      "execution_count": null,
      "outputs": [
        {
          "output_type": "stream",
          "name": "stdout",
          "text": [
            "--ab-~a~b\n",
            "not\n",
            "-a-b-~a~b\n",
            "-(a-b)-~a~b\n",
            "-(a-b)-~a~b\n",
            "- ~a\n",
            "-(a-b)~a-~b\n",
            "-(a-b)(~a-~b)\n",
            "not\n",
            "-(ab-)-~a~b\n",
            "-(a(b-))-~a~b\n",
            "-(a(b-))-~a~b\n",
            "- ~a\n",
            "-(a(b-))~a-~b\n",
            "-(a(b-))(~a-~b)\n"
          ]
        },
        {
          "output_type": "execute_result",
          "data": {
            "application/vnd.google.colaboratory.intrinsic+json": {
              "type": "string"
            },
            "text/plain": [
              "'-(a(b-))-~a~b'"
            ]
          },
          "metadata": {},
          "execution_count": 38
        }
      ]
    },
    {
      "cell_type": "code",
      "metadata": {
        "id": "5MbkkaE-T6oD"
      },
      "source": [
        "def convertPol(formula):\n",
        "  formula=list(formula)\n",
        "  s=[]\n",
        "  for c in range(len(formula)-1,-1,-1):\n",
        "    print(s)\n",
        "    if formula[c] not in ['-','v','^']:\n",
        "      s.insert(0,formula[c])\n",
        "    else:\n",
        "      if s[0]=='~':\n",
        "        op1=s[0]+s[1]\n",
        "        s.pop(0)\n",
        "        s.pop(0)\n",
        "        if s[0]=='~':\n",
        "          op2=s[0]+s[1]\n",
        "          s.pop(0)\n",
        "          s.pop(0)\n",
        "        else:\n",
        "          op2=s[0]\n",
        "          s.pop(0)\n",
        "      else:\n",
        "        op1=s[0]\n",
        "        s.pop(0)\n",
        "        if s[0]=='~':\n",
        "          op2=s[0]+s[1]\n",
        "          s.pop(0)\n",
        "          s.pop(0)\n",
        "        else:\n",
        "          op2=s[0]\n",
        "          s.pop(0)\n",
        "      s.insert(0,'('+op1+formula[c]+op2+')')\n",
        "  return(s[0])\n",
        "\n",
        "\n",
        "\n",
        "\n"
      ],
      "execution_count": null,
      "outputs": []
    },
    {
      "cell_type": "code",
      "metadata": {
        "colab": {
          "base_uri": "https://localhost:8080/",
          "height": 226
        },
        "id": "DXovT3AwAcbG",
        "outputId": "34be666e-ea1d-45bc-892d-20f57a1ffbca"
      },
      "source": [
        "f=\"---ab-~a~bb\"\n",
        "convertPol(f)"
      ],
      "execution_count": null,
      "outputs": [
        {
          "output_type": "stream",
          "name": "stdout",
          "text": [
            "[]\n",
            "['b']\n",
            "['b', 'b']\n",
            "['~', 'b', 'b']\n",
            "['a', '~', 'b', 'b']\n",
            "['~', 'a', '~', 'b', 'b']\n",
            "['(~a-~b)', 'b']\n",
            "['b', '(~a-~b)', 'b']\n",
            "['a', 'b', '(~a-~b)', 'b']\n",
            "['(a-b)', '(~a-~b)', 'b']\n",
            "['((a-b)-(~a-~b))', 'b']\n"
          ]
        },
        {
          "output_type": "execute_result",
          "data": {
            "application/vnd.google.colaboratory.intrinsic+json": {
              "type": "string"
            },
            "text/plain": [
              "'(((a-b)-(~a-~b))-b)'"
            ]
          },
          "metadata": {},
          "execution_count": 57
        }
      ]
    },
    {
      "cell_type": "code",
      "metadata": {
        "colab": {
          "base_uri": "https://localhost:8080/",
          "height": 35
        },
        "id": "bZ3Tj7vsOYoB",
        "outputId": "3c93fe7a-03fb-4a62-f110-9de875b36f50"
      },
      "source": [
        "def isOperand(x):\n",
        "    return ((x >= 'a' and x <= 'z') or\n",
        "            (x >= 'A' and x <= 'Z'))\n",
        "\n",
        "# Get Infix for a given postfix\n",
        "# expression\n",
        "def getInfix(exp) :\n",
        "\n",
        "    s = []\n",
        "\n",
        "    for i in exp:\n",
        "\n",
        "        # Push operands\n",
        "        if (isOperand(i)) :\n",
        "            s.insert(0, i)\n",
        "\n",
        "        # We assume that input is a\n",
        "        # valid postfix and expect\n",
        "        # an operator.\n",
        "        else:\n",
        "\n",
        "            op1 = s[0]\n",
        "            s.pop(0)\n",
        "            op2 = s[0]\n",
        "            s.pop(0)\n",
        "            s.insert(0, \"(\" + op2 + i +\n",
        "                             op1 + \")\")\n",
        "\n",
        "    # There must be a single element in\n",
        "    # stack now which is the required\n",
        "    # infix.\n",
        "    return s[0]\n",
        "getInfix(\"ab+cd++\")"
      ],
      "execution_count": null,
      "outputs": [
        {
          "output_type": "execute_result",
          "data": {
            "application/vnd.google.colaboratory.intrinsic+json": {
              "type": "string"
            },
            "text/plain": [
              "'((a+b)+(c+d))'"
            ]
          },
          "metadata": {},
          "execution_count": 38
        }
      ]
    }
  ]
}